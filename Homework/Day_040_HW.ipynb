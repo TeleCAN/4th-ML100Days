{
 "cells": [
  {
   "cell_type": "markdown",
   "metadata": {},
   "source": [
    "## [作業重點]\n",
    "使用 Sklearn 中的 Lasso, Ridge 模型，來訓練各種資料集，務必了解送進去模型訓練的**資料型態**為何，也請了解模型中各項參數的意義。\n",
    "\n",
    "機器學習的模型非常多種，但要訓練的資料多半有固定的格式，確保你了解訓練資料的格式為何，這樣在應用新模型時，就能夠最快的上手開始訓練！"
   ]
  },
  {
   "cell_type": "markdown",
   "metadata": {},
   "source": [
    "## 練習時間\n",
    "試著使用 sklearn datasets 的其他資料集 (boston, ...)，來訓練自己的線性迴歸模型，並加上適當的正則化來觀察訓練情形。"
   ]
  },
  {
   "cell_type": "code",
   "execution_count": 1,
   "metadata": {},
   "outputs": [
    {
     "name": "stderr",
     "output_type": "stream",
     "text": [
      "C:\\Users\\user\\AppData\\Local\\Programs\\Python\\Python37\\lib\\importlib\\_bootstrap.py:219: RuntimeWarning: numpy.ufunc size changed, may indicate binary incompatibility. Expected 192 from C header, got 216 from PyObject\n",
      "  return f(*args, **kwds)\n"
     ]
    }
   ],
   "source": [
    "import numpy as np\n",
    "import matplotlib.pyplot as plt\n",
    "from sklearn import linear_model, datasets\n",
    "from sklearn.model_selection import train_test_split\n",
    "from sklearn.metrics import mean_squared_error, r2_score"
   ]
  },
  {
   "cell_type": "code",
   "execution_count": 18,
   "metadata": {},
   "outputs": [],
   "source": [
    "# 載入數據\n",
    "boston = datasets.load_boston()\n",
    "# 分割數據集成訓練集及測試集\n",
    "X_train, X_test, y_train, y_test = train_test_split(boston.data, boston.target, test_size = 0.1, random_state=1)\n",
    "\n",
    "# 建立線性回歸模型(無regularizer)\n",
    "regr = linear_model.LinearRegression()\n",
    "\n",
    "# 擬合模型\n",
    "regr.fit(X_train,y_train)\n",
    "\n",
    "# 預測數據\n",
    "y_pred = regr.predict(X_test)"
   ]
  },
  {
   "cell_type": "code",
   "execution_count": 19,
   "metadata": {},
   "outputs": [
    {
     "name": "stdout",
     "output_type": "stream",
     "text": [
      "R-square:0.78\n",
      "各變數係數: [-1.16259926e-01  5.56061815e-02  2.42066570e-03  2.58498034e+00\n",
      " -1.91474547e+01  3.54362973e+00 -5.86296897e-04 -1.59321860e+00\n",
      "  3.16227116e-01 -1.20965602e-02 -9.20798781e-01  8.75217941e-03\n",
      " -5.18191990e-01]\n",
      "Mean squared error: 20.54\n"
     ]
    }
   ],
   "source": [
    "# 評估模型\n",
    "\n",
    "print('R-square:%.2f'%regr.score(X_test,y_test))\n",
    "\n",
    "# 觀看係數\n",
    "print('各變數係數:',regr.coef_)\n",
    "\n",
    "# 預測值與實際值的差距，使用 MSE\n",
    "print(\"Mean squared error: %.2f\"\n",
    "      % mean_squared_error(y_test, y_pred))"
   ]
  },
  {
   "cell_type": "markdown",
   "metadata": {},
   "source": [
    "### 加入regularizer"
   ]
  },
  {
   "cell_type": "markdown",
   "metadata": {},
   "source": [
    "class sklearn.linear_model.Lasso(alpha=1.0, fit_intercept=True, normalize=False, precompute=False, copy_X=True, max_iter=1000, tol=0.0001, warm_start=False, positive=False, random_state=None, selection='cyclic')"
   ]
  },
  {
   "cell_type": "code",
   "execution_count": 20,
   "metadata": {},
   "outputs": [],
   "source": [
    "# 建立線性回歸模型(加入L1 regularizer)\n",
    "LASSO = linear_model.Lasso(alpha=0.01)\n",
    "\n",
    "# 擬合模型\n",
    "LASSO.fit(X_train,y_train)\n",
    "\n",
    "# 預測數據\n",
    "y_pred = LASSO.predict(X_test)"
   ]
  },
  {
   "cell_type": "code",
   "execution_count": 21,
   "metadata": {},
   "outputs": [
    {
     "name": "stdout",
     "output_type": "stream",
     "text": [
      "R-square:0.78\n",
      "各變數係數: [-1.14569533e-01  5.59565146e-02 -1.03346970e-02  2.39424377e+00\n",
      " -1.57799445e+01  3.54519073e+00 -3.20602538e-03 -1.53876712e+00\n",
      "  3.08447842e-01 -1.24052404e-02 -8.85732869e-01  8.90320692e-03\n",
      " -5.23860480e-01]\n",
      "Mean squared error: 20.36\n"
     ]
    }
   ],
   "source": [
    "# 評估模型\n",
    "\n",
    "print('R-square:%.2f'%LASSO.score(X_test,y_test))\n",
    "\n",
    "# 觀看係數\n",
    "print('各變數係數:',LASSO.coef_)\n",
    "\n",
    "# 預測值與實際值的差距，使用 MSE\n",
    "print(\"Mean squared error: %.2f\"\n",
    "      % mean_squared_error(y_test, y_pred))"
   ]
  },
  {
   "cell_type": "code",
   "execution_count": 22,
   "metadata": {},
   "outputs": [],
   "source": [
    "# 建立線性回歸模型(加入L2 regularizer)\n",
    "ridge_regr = linear_model.Ridge(alpha=0.01)\n",
    "\n",
    "# 擬合模型\n",
    "ridge_regr.fit(X_train,y_train)\n",
    "\n",
    "# 預測數據\n",
    "y_pred = ridge_regr.predict(X_test)"
   ]
  },
  {
   "cell_type": "code",
   "execution_count": 23,
   "metadata": {},
   "outputs": [
    {
     "name": "stdout",
     "output_type": "stream",
     "text": [
      "R-square:0.78\n",
      "各變數係數: [-1.16195141e-01  5.56188337e-02  1.84098673e-03  2.58251085e+00\n",
      " -1.90099344e+01  3.54463958e+00 -7.12643429e-04 -1.59119428e+00\n",
      "  3.15872835e-01 -1.21063935e-02 -9.19323855e-01  8.75824862e-03\n",
      " -5.18332936e-01]\n",
      "Mean squared error: 20.53\n"
     ]
    }
   ],
   "source": [
    "# 評估模型\n",
    "\n",
    "print('R-square:%.2f'%ridge_regr.score(X_test,y_test))\n",
    "\n",
    "# 觀看係數\n",
    "print('各變數係數:',ridge_regr.coef_)\n",
    "\n",
    "# 預測值與實際值的差距，使用 MSE\n",
    "print(\"Mean squared error: %.2f\"\n",
    "      % mean_squared_error(y_test, y_pred))"
   ]
  },
  {
   "cell_type": "markdown",
   "metadata": {},
   "source": [
    "不管是R-square或是模型的係數都沒有變動太多"
   ]
  },
  {
   "cell_type": "code",
   "execution_count": 25,
   "metadata": {},
   "outputs": [
    {
     "name": "stderr",
     "output_type": "stream",
     "text": [
      "D:\\code\\python\\ClaraNeko\\venv\\lib\\site-packages\\sklearn\\linear_model\\logistic.py:432: FutureWarning: Default solver will be changed to 'lbfgs' in 0.22. Specify a solver to silence this warning.\n",
      "  FutureWarning)\n",
      "D:\\code\\python\\ClaraNeko\\venv\\lib\\site-packages\\sklearn\\linear_model\\logistic.py:469: FutureWarning: Default multi_class will be changed to 'auto' in 0.22. Specify the multi_class option to silence this warning.\n",
      "  \"this warning.\", FutureWarning)\n"
     ]
    }
   ],
   "source": [
    "# 載入數據\n",
    "wine = datasets.load_wine()\n",
    "# 分割數據集成訓練集及測試集\n",
    "X_train, X_test, y_train, y_test = train_test_split(wine.data, wine.target, test_size = 0.1, random_state=1)\n",
    "\n",
    "# 建立線性回歸模型(無加入L1 regularizer)\n",
    "LogReg = linear_model.LogisticRegression()\n",
    "\n",
    "# 擬合模型\n",
    "LogReg.fit(X_train,y_train)\n",
    "\n",
    "# 預測數據\n",
    "y_pred = LogReg.predict(X_test)"
   ]
  },
  {
   "cell_type": "code",
   "execution_count": 26,
   "metadata": {},
   "outputs": [
    {
     "name": "stdout",
     "output_type": "stream",
     "text": [
      "Acurracy:0.94\n",
      "各變數係數: [[-4.22982566e-01  7.36883514e-01  8.55400490e-01 -6.83884295e-01\n",
      "  -3.54330256e-02  8.59707546e-02  1.18743674e+00  7.85172119e-02\n",
      "  -2.50710366e-01 -1.36166415e-01 -1.37267383e-01  9.22548602e-01\n",
      "   1.72799265e-02]\n",
      " [ 8.61720018e-01 -1.22081937e+00 -9.69179525e-01  2.84276231e-01\n",
      "   4.09113627e-03  4.99146470e-01  5.34968764e-01  2.91209145e-01\n",
      "   8.79143143e-01 -1.69215774e+00  7.02990624e-01 -1.22306836e-01\n",
      "  -1.35019531e-02]\n",
      " [-3.52918220e-01  6.60820919e-01  8.89270392e-02  1.29816582e-01\n",
      "   1.98321569e-02 -7.17185431e-01 -1.83806998e+00 -8.07349945e-02\n",
      "  -7.29501000e-01  1.05879594e+00 -4.82187494e-01 -1.16489278e+00\n",
      "   2.61618260e-04]]\n"
     ]
    }
   ],
   "source": [
    "# 評估模型\n",
    "\n",
    "print('Acurracy:%.2f'%ridge_LogReg.score(X_test,y_test))\n",
    "\n",
    "# 觀看係數\n",
    "print('各變數係數:',ridge_LogReg.coef_)"
   ]
  },
  {
   "cell_type": "code",
   "execution_count": 27,
   "metadata": {},
   "outputs": [
    {
     "name": "stderr",
     "output_type": "stream",
     "text": [
      "D:\\code\\python\\ClaraNeko\\venv\\lib\\site-packages\\sklearn\\linear_model\\logistic.py:432: FutureWarning: Default solver will be changed to 'lbfgs' in 0.22. Specify a solver to silence this warning.\n",
      "  FutureWarning)\n",
      "D:\\code\\python\\ClaraNeko\\venv\\lib\\site-packages\\sklearn\\linear_model\\logistic.py:1506: UserWarning: l1_ratio parameter is only used when penalty is 'elasticnet'. Got (penalty=l2)\n",
      "  \"(penalty={})\".format(self.penalty))\n",
      "D:\\code\\python\\ClaraNeko\\venv\\lib\\site-packages\\sklearn\\linear_model\\logistic.py:469: FutureWarning: Default multi_class will be changed to 'auto' in 0.22. Specify the multi_class option to silence this warning.\n",
      "  \"this warning.\", FutureWarning)\n"
     ]
    }
   ],
   "source": [
    "# 建立線性分類模型(加入L2 regularizer)\n",
    "ridge_LogReg = linear_model.LogisticRegression(penalty='l2', l1_ratio=0.01)\n",
    "\n",
    "# 擬合模型\n",
    "ridge_LogReg.fit(X_train,y_train)\n",
    "\n",
    "# 預測數據\n",
    "y_pred = ridge_LogReg.predict(X_test)"
   ]
  },
  {
   "cell_type": "code",
   "execution_count": 28,
   "metadata": {},
   "outputs": [
    {
     "name": "stdout",
     "output_type": "stream",
     "text": [
      "Acurracy:0.94\n",
      "各變數係數: [[-4.22982566e-01  7.36883514e-01  8.55400490e-01 -6.83884295e-01\n",
      "  -3.54330256e-02  8.59707546e-02  1.18743674e+00  7.85172119e-02\n",
      "  -2.50710366e-01 -1.36166415e-01 -1.37267383e-01  9.22548602e-01\n",
      "   1.72799265e-02]\n",
      " [ 8.61720018e-01 -1.22081937e+00 -9.69179525e-01  2.84276231e-01\n",
      "   4.09113627e-03  4.99146470e-01  5.34968764e-01  2.91209145e-01\n",
      "   8.79143143e-01 -1.69215774e+00  7.02990624e-01 -1.22306836e-01\n",
      "  -1.35019531e-02]\n",
      " [-3.52918220e-01  6.60820919e-01  8.89270392e-02  1.29816582e-01\n",
      "   1.98321569e-02 -7.17185431e-01 -1.83806998e+00 -8.07349945e-02\n",
      "  -7.29501000e-01  1.05879594e+00 -4.82187494e-01 -1.16489278e+00\n",
      "   2.61618260e-04]]\n"
     ]
    }
   ],
   "source": [
    "# 評估模型\n",
    "\n",
    "print('Acurracy:%.2f'%ridge_LogReg.score(X_test,y_test))\n",
    "\n",
    "# 觀看係數\n",
    "print('各變數係數:',ridge_LogReg.coef_)"
   ]
  },
  {
   "cell_type": "code",
   "execution_count": null,
   "metadata": {},
   "outputs": [],
   "source": []
  }
 ],
 "metadata": {
  "kernelspec": {
   "display_name": "Python 3",
   "language": "python",
   "name": "python3"
  },
  "language_info": {
   "codemirror_mode": {
    "name": "ipython",
    "version": 3
   },
   "file_extension": ".py",
   "mimetype": "text/x-python",
   "name": "python",
   "nbconvert_exporter": "python",
   "pygments_lexer": "ipython3",
   "version": "3.7.5"
  }
 },
 "nbformat": 4,
 "nbformat_minor": 2
}
