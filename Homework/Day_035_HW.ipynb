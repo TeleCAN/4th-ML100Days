{
 "cells": [
  {
   "cell_type": "markdown",
   "metadata": {},
   "source": [
    "## 練習時間\n",
    "相信大家對回歸問題及分類問題都有初步的了解。今天的作業希望大家搜尋有關 multi-label 的案例問題。下圖是電影 \"奇異博士\" 的分類。可以看到同時有 \"Action\", \"Adventure\", \"Fantasy\" 的類別存在，代表這是個多標籤的問題。 "
   ]
  },
  {
   "cell_type": "markdown",
   "metadata": {},
   "source": [
    "![image](https://cdn-images-1.medium.com/max/1000/1*r0gYXMSQf5VhdMyl2bRDyg.png)"
   ]
  },
  {
   "cell_type": "markdown",
   "metadata": {},
   "source": [
    "## 請搜尋目標為多標籤問題 (Multi-label) 的機器學習案例，了解其資料來源、目標以及評估指標為何\n",
    "## Hint: 服飾"
   ]
  },
  {
   "cell_type": "markdown",
   "metadata": {},
   "source": [
    "阿里巴巴與香港理工大學合作開發的fashionAI\n",
    "\n",
    "資料來源:\n",
    "1. 中國最大C2C購物網站「淘寶網」上，由造型師搭配的50萬套服飾圖片\n",
    "2. 最大B2C購物網站「天貓」提供的時尚知識\n",
    "3. 每個消費會員過去網購紀錄的分析\n",
    "\n",
    "目標:\n",
    "1. 經由購買者的身型，辨識出衣服的時尚元素，接著推薦合適的搭配選擇\n",
    "\n",
    "為多元分類的一種\n",
    "\n",
    "評估指標:\n",
    "1. Accuray→ cross entropy\n",
    "\n",
    "參考:https://www.cheers.com.tw/article/article.action?id=5091068"
   ]
  },
  {
   "cell_type": "code",
   "execution_count": null,
   "metadata": {},
   "outputs": [],
   "source": []
  }
 ],
 "metadata": {
  "kernelspec": {
   "display_name": "Python 3",
   "language": "python",
   "name": "python3"
  },
  "language_info": {
   "codemirror_mode": {
    "name": "ipython",
    "version": 3
   },
   "file_extension": ".py",
   "mimetype": "text/x-python",
   "name": "python",
   "nbconvert_exporter": "python",
   "pygments_lexer": "ipython3",
   "version": "3.7.5"
  }
 },
 "nbformat": 4,
 "nbformat_minor": 2
}
